{
 "cells": [
  {
   "cell_type": "code",
   "execution_count": 1,
   "metadata": {},
   "outputs": [],
   "source": [
    "import pandas as pd\n",
    "import requests\n",
    "import seaborn as sns\n",
    "from bs4 import BeautifulSoup\n",
    "import matplotlib.pyplot as plt\n",
    "import datetime"
   ]
  },
  {
   "cell_type": "code",
   "execution_count": 3,
   "metadata": {},
   "outputs": [],
   "source": [
    "url = 'https://worldtable.info/gosudarstvo/tablica-rozhdaemosti-po-godam-rossija.html'   \n",
    "    \n",
    "HOST = 'https://worldtable.info/gosudarstvo/tablica-rozhdaemosti-po-godam-rossija.html'\n",
    "\n",
    "HEADERS = {\n",
    "    'Accept': 'text/html,application/xhtml+xml,application/xml;q=0.9,*/*;q=0.8',\n",
    "    'User-Agent': 'Mozilla/5.0 (Macintosh; Intel Mac OS X 10_15_6) AppleWebKit/605.1.15 (KHTML, like Gecko) Version/13.1.2 Safari/605.1.15',\n",
    "}\n",
    "\n",
    "r = requests.get(url, headers=HEADERS)\n",
    "soup = BeautifulSoup(r.text, 'html.parser')\n",
    "\n",
    "\n",
    "table_birth = soup.find('div', class_='item-description').find_all('td')"
   ]
  },
  {
   "cell_type": "code",
   "execution_count": 23,
   "metadata": {},
   "outputs": [],
   "source": [
    "lst_df_year = []\n",
    "lst_df_birth = []\n",
    "\n",
    "for i in range(len(table_birth)):\n",
    "    if i % 2 == 0:\n",
    "        lst_df_year.append(pd.DataFrame(table_birth[i]))\n",
    "    else:\n",
    "        lst_df_birth.append(pd.DataFrame(table_birth[i]))\n",
    "\n",
    "        \n",
    "df_year = pd.concat(lst_df_year).reset_index()\n",
    "df_year = df_year.drop('index', axis=1)\n",
    "df_birth = pd.concat(lst_df_birth).reset_index()\n",
    "df_birth = df_birth.drop('index', axis=1)\n",
    "df = pd.merge(df_year, df_birth, left_index=True, right_index=True)\n",
    "df.columns = ['year', 'birth']\n",
    "df = df.drop([0])\n",
    "df['year'] = df['year'].apply(lambda x: str(x))\n",
    "df['birth'] = df['birth'].apply(lambda x: int(x.replace(' ', '')))\n",
    "df['year'] = pd.to_datetime(df['year']).dt.year\n",
    "df.to_excel('/Users/dmitrydeykalo/Desktop/Тестовые/Сравни ру/df.xlsx')"
   ]
  },
  {
   "cell_type": "code",
   "execution_count": 24,
   "metadata": {},
   "outputs": [
    {
     "data": {
      "text/plain": [
       "<seaborn.axisgrid.FacetGrid at 0x7fee89108ee0>"
      ]
     },
     "execution_count": 24,
     "metadata": {},
     "output_type": "execute_result"
    },
    {
     "data": {
      "image/png": "[encoded data removed]",
      "text/plain": [
       "<Figure size 360x360 with 1 Axes>"
      ]
     },
     "metadata": {},
     "output_type": "display_data"
    }
   ],
   "source": [
    "sns.set(rc={'figure.figsize':(25, 25)})\n",
    "sns.relplot(x='year', y=\"birth\", data=df)"
   ]
  },
  {
   "cell_type": "code",
   "execution_count": null,
   "metadata": {},
   "outputs": [],
   "source": []
  }
 ],
 "metadata": {
  "kernelspec": {
   "display_name": "Python 3",
   "language": "python",
   "name": "python3"
  },
  "language_info": {
   "codemirror_mode": {
    "name": "ipython",
    "version": 3
   },
   "file_extension": ".py",
   "mimetype": "text/x-python",
   "name": "python",
   "nbconvert_exporter": "python",
   "pygments_lexer": "ipython3",
   "version": "3.8.5"
  }
 },
 "nbformat": 4,
 "nbformat_minor": 4
}
